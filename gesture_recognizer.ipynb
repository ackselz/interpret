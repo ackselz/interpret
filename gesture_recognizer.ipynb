{
  "cells": [
    {
      "cell_type": "markdown",
      "metadata": {
        "id": "Z-9BpIlqAZci"
      },
      "source": [
        "Project: /mediapipe/_project.yaml\n",
        "Book: /mediapipe/_book.yaml\n",
        "\n",
        "<link rel=\"stylesheet\" href=\"/mediapipe/site.css\">\n",
        "\n",
        "# Hand gesture recognition model customization guide\n",
        "\n",
        "<table align=\"left\" class=\"buttons\">\n",
        "  <td>\n",
        "    <a href=\"https://colab.research.google.com/github/googlesamples/mediapipe/blob/main/examples/customization/gesture_recognizer.ipynb\" target=\"_blank\">\n",
        "      <img src=\"https://developers.google.com/static/mediapipe/solutions/customization/colab-logo-32px_1920.png\" alt=\"Colab logo\"> Run in Colab\n",
        "    </a>\n",
        "  </td>\n",
        "\n",
        "  <td>\n",
        "    <a href=\"https://github.com/googlesamples/mediapipe/blob/main/examples/customization/gesture_recognizer.ipynb\" target=\"_blank\">\n",
        "      <img src=\"https://developers.google.com/static/mediapipe/solutions/customization/github-logo-32px_1920.png\" alt=\"GitHub logo\">\n",
        "      View on GitHub\n",
        "    </a>\n",
        "  </td>\n",
        "</table>"
      ]
    },
    {
      "cell_type": "code",
      "execution_count": null,
      "metadata": {
        "id": "JO1GUwC1_T2x"
      },
      "outputs": [],
      "source": [
        "#@title License information\n",
        "# Copyright 2023 The MediaPipe Authors.\n",
        "# Licensed under the Apache License, Version 2.0 (the \"License\");\n",
        "#\n",
        "# you may not use this file except in compliance with the License.\n",
        "# You may obtain a copy of the License at\n",
        "#\n",
        "# https://www.apache.org/licenses/LICENSE-2.0\n",
        "#\n",
        "# Unless required by applicable law or agreed to in writing, software\n",
        "# distributed under the License is distributed on an \"AS IS\" BASIS,\n",
        "# WITHOUT WARRANTIES OR CONDITIONS OF ANY KIND, either express or implied.\n",
        "# See the License for the specific language governing permissions and\n",
        "# limitations under the License."
      ]
    },
    {
      "cell_type": "markdown",
      "metadata": {
        "id": "wFBcmjzf0JLE"
      },
      "source": [
        "The MediaPipe Model Maker package is a low-code solution for customizing on-device machine learning (ML) Models.\n",
        "\n",
        "This notebook shows the end-to-end process of customizing a gesture recognizer model for recognizing some common hand gestures in the [HaGRID](https://www.kaggle.com/datasets/innominate817/hagrid-sample-30k-384p) dataset."
      ]
    },
    {
      "cell_type": "markdown",
      "metadata": {
        "id": "YGM0PT490LiR"
      },
      "source": [
        "## Prerequisites"
      ]
    },
    {
      "cell_type": "markdown",
      "metadata": {
        "id": "cVVxZNfo0M0y"
      },
      "source": [
        "Install the MediaPipe Model Maker package."
      ]
    },
    {
      "cell_type": "code",
      "execution_count": null,
      "metadata": {
        "id": "6DBLRE-fqlO5"
      },
      "outputs": [],
      "source": [
        "!pip install --upgrade pip\n",
        "!pip install mediapipe-model-maker"
      ]
    },
    {
      "cell_type": "markdown",
      "metadata": {
        "id": "v3CvTNmB1WiY"
      },
      "source": [
        "Import the required libraries."
      ]
    },
    {
      "cell_type": "code",
      "execution_count": null,
      "metadata": {
        "id": "c74UL9oI0VKU"
      },
      "outputs": [],
      "source": [
        "from google.colab import files\n",
        "import os\n",
        "import tensorflow as tf\n",
        "assert tf.__version__.startswith('2')\n",
        "\n",
        "from mediapipe_model_maker import gesture_recognizer\n",
        "\n",
        "import matplotlib.pyplot as plt"
      ]
    },
    {
      "cell_type": "markdown",
      "metadata": {
        "id": "IppoENBmAuFn"
      },
      "source": [
        "## Simple End-to-End Example\n",
        "\n",
        "This end-to-end example uses Model Maker to customize a model for on-device gesture recognition."
      ]
    },
    {
      "cell_type": "markdown",
      "metadata": {
        "id": "i8fMLXTdD6tW"
      },
      "source": [
        "### Get the dataset"
      ]
    },
    {
      "cell_type": "markdown",
      "metadata": {
        "id": "7TwDFilngzjs"
      },
      "source": [
        "The dataset for gesture recognition in model maker requires the following format: `<dataset_path>/<label_name>/<img_name>.*`. In addition, one of the label names (`label_names`) must be `none`. The `none` label represents any gesture that isn't classified as one of the other gestures.\n",
        "\n",
        "This example uses a rock paper scissors dataset sample which is downloaded from GCS."
      ]
    },
    {
      "cell_type": "code",
      "execution_count": 1,
      "metadata": {
        "id": "6dwmyg5MnR_y"
      },
      "outputs": [
        {
          "name": "stdout",
          "output_type": "stream",
          "text": [
            "--2024-04-04 17:50:54--  https://storage.googleapis.com/mediapipe-tasks/gesture_recognizer/rps_data_sample.zip\n",
            "Resolving storage.googleapis.com (storage.googleapis.com)... 74.125.200.207, 74.125.68.207, 142.251.10.207, ...\n",
            "Connecting to storage.googleapis.com (storage.googleapis.com)|74.125.200.207|:443... connected.\n",
            "HTTP request sent, awaiting response... 200 OK\n",
            "Length: 12332447 (12M) [application/zip]\n",
            "Saving to: ‘rps_data_sample.zip’\n",
            "\n",
            "rps_data_sample.zip 100%[===================>]  11.76M  7.20MB/s    in 1.6s    \n",
            "\n",
            "2024-04-04 17:50:56 (7.20 MB/s) - ‘rps_data_sample.zip’ saved [12332447/12332447]\n",
            "\n",
            "Archive:  rps_data_sample.zip\n",
            "   creating: rps_data_sample/\n",
            "   creating: rps_data_sample/paper/\n",
            "   creating: rps_data_sample/rock/\n",
            "   creating: rps_data_sample/scissors/\n",
            "   creating: rps_data_sample/none/\n",
            "  inflating: rps_data_sample/paper/77.jpg  \n",
            "  inflating: rps_data_sample/paper/837.jpg  \n",
            "  inflating: rps_data_sample/paper/176.jpg  \n",
            "  inflating: rps_data_sample/paper/406.jpg  \n",
            "  inflating: rps_data_sample/paper/771.jpg  \n",
            "  inflating: rps_data_sample/paper/89.jpg  \n",
            "  inflating: rps_data_sample/paper/76.jpg  \n",
            "  inflating: rps_data_sample/paper/74.jpg  \n",
            "  inflating: rps_data_sample/paper/439.jpg  \n",
            "  inflating: rps_data_sample/paper/411.jpg  \n",
            "  inflating: rps_data_sample/paper/955.jpg  \n",
            "  inflating: rps_data_sample/paper/941.jpg  \n",
            "  inflating: rps_data_sample/paper/170.jpg  \n",
            "  inflating: rps_data_sample/paper/158.jpg  \n",
            "  inflating: rps_data_sample/paper/206.jpg  \n",
            "  inflating: rps_data_sample/paper/944.jpg  \n",
            "  inflating: rps_data_sample/paper/575.jpg  \n",
            "  inflating: rps_data_sample/paper/401.jpg  \n",
            "  inflating: rps_data_sample/paper/165.jpg  \n",
            "  inflating: rps_data_sample/paper/818.jpg  \n",
            "  inflating: rps_data_sample/paper/72.jpg  \n",
            "  inflating: rps_data_sample/paper/832.jpg  \n",
            "  inflating: rps_data_sample/paper/601.jpg  \n",
            "  inflating: rps_data_sample/paper/628.jpg  \n",
            "  inflating: rps_data_sample/paper/166.jpg  \n",
            "  inflating: rps_data_sample/paper/465.jpg  \n",
            "  inflating: rps_data_sample/paper/539.jpg  \n",
            "  inflating: rps_data_sample/paper/505.jpg  \n",
            "  inflating: rps_data_sample/paper/935.jpg  \n",
            "  inflating: rps_data_sample/paper/504.jpg  \n",
            "  inflating: rps_data_sample/paper/276.jpg  \n",
            "  inflating: rps_data_sample/paper/302.jpg  \n",
            "  inflating: rps_data_sample/paper/666.jpg  \n",
            "  inflating: rps_data_sample/paper/855.jpg  \n",
            "  inflating: rps_data_sample/paper/658.jpg  \n",
            "  inflating: rps_data_sample/paper/472.jpg  \n",
            "  inflating: rps_data_sample/paper/249.jpg  \n",
            "  inflating: rps_data_sample/paper/103.jpg  \n",
            "  inflating: rps_data_sample/paper/846.jpg  \n",
            "  inflating: rps_data_sample/paper/891.jpg  \n",
            "  inflating: rps_data_sample/paper/477.jpg  \n",
            "  inflating: rps_data_sample/paper/339.jpg  \n",
            "  inflating: rps_data_sample/paper/701.jpg  \n",
            "  inflating: rps_data_sample/paper/258.jpg  \n",
            "  inflating: rps_data_sample/paper/884.jpg  \n",
            "  inflating: rps_data_sample/paper/890.jpg  \n",
            "  inflating: rps_data_sample/paper/847.jpg  \n",
            "  inflating: rps_data_sample/paper/879.jpg  \n",
            "  inflating: rps_data_sample/paper/306.jpg  \n",
            "  inflating: rps_data_sample/paper/460.jpg  \n",
            "  inflating: rps_data_sample/paper/299.jpg  \n",
            "  inflating: rps_data_sample/paper/919.jpg  \n",
            "  inflating: rps_data_sample/paper/717.jpg  \n",
            "  inflating: rps_data_sample/paper/918.jpg  \n",
            "  inflating: rps_data_sample/paper/529.jpg  \n",
            "  inflating: rps_data_sample/paper/461.jpg  \n",
            "  inflating: rps_data_sample/paper/887.jpg  \n",
            "  inflating: rps_data_sample/paper/677.jpg  \n",
            "  inflating: rps_data_sample/paper/844.jpg  \n",
            "  inflating: rps_data_sample/paper/518.jpg  \n",
            "  inflating: rps_data_sample/paper/901.jpg  \n",
            "  inflating: rps_data_sample/paper/531.jpg  \n",
            "  inflating: rps_data_sample/paper/690.jpg  \n",
            "  inflating: rps_data_sample/paper/321.jpg  \n",
            "  inflating: rps_data_sample/paper/282.jpg  \n",
            "  inflating: rps_data_sample/paper/269.jpg  \n",
            "  inflating: rps_data_sample/paper/533.jpg  \n",
            "  inflating: rps_data_sample/paper/719.jpg  \n",
            "  inflating: rps_data_sample/paper/730.jpg  \n",
            "  inflating: rps_data_sample/paper/283.jpg  \n",
            "  inflating: rps_data_sample/paper/37.jpg  \n",
            "  inflating: rps_data_sample/paper/654.jpg  \n",
            "  inflating: rps_data_sample/paper/898.jpg  \n",
            "  inflating: rps_data_sample/paper/495.jpg  \n",
            "  inflating: rps_data_sample/paper/318.jpg  \n",
            "  inflating: rps_data_sample/paper/278.jpg  \n",
            "  inflating: rps_data_sample/paper/734.jpg  \n",
            "  inflating: rps_data_sample/paper/537.jpg  \n",
            "  inflating: rps_data_sample/paper/319.jpg  \n",
            "  inflating: rps_data_sample/paper/655.jpg  \n",
            "  inflating: rps_data_sample/paper/680.jpg  \n",
            "  inflating: rps_data_sample/paper/18.jpg  \n",
            "  inflating: rps_data_sample/paper/24.jpg  \n",
            "  inflating: rps_data_sample/paper/657.jpg  \n",
            "  inflating: rps_data_sample/paper/119.jpg  \n",
            "  inflating: rps_data_sample/paper/482.jpg  \n",
            "  inflating: rps_data_sample/paper/284.jpg  \n",
            "  inflating: rps_data_sample/paper/905.jpg  \n",
            "  inflating: rps_data_sample/paper/483.jpg  \n",
            "  inflating: rps_data_sample/paper/865.jpg  \n",
            "  inflating: rps_data_sample/paper/25.jpg  \n",
            "  inflating: rps_data_sample/paper/194.jpg  \n",
            "  inflating: rps_data_sample/paper/143.jpg  \n",
            "  inflating: rps_data_sample/paper/744.jpg  \n",
            "  inflating: rps_data_sample/paper/977.jpg  \n",
            "  inflating: rps_data_sample/paper/142.jpg  \n",
            "  inflating: rps_data_sample/paper/80.jpg  \n",
            "  inflating: rps_data_sample/paper/57.jpg  \n",
            "  inflating: rps_data_sample/paper/7.jpg  \n",
            "  inflating: rps_data_sample/paper/183.jpg  \n",
            "  inflating: rps_data_sample/paper/395.jpg  \n",
            "  inflating: rps_data_sample/paper/544.jpg  \n",
            "  inflating: rps_data_sample/paper/236.jpg  \n",
            "  inflating: rps_data_sample/paper/785.jpg  \n",
            "  inflating: rps_data_sample/paper/791.jpg  \n",
            "  inflating: rps_data_sample/paper/394.jpg  \n",
            "  inflating: rps_data_sample/paper/54.jpg  \n",
            "  inflating: rps_data_sample/paper/192.jpg  \n",
            "  inflating: rps_data_sample/paper/838.jpg  \n",
            "  inflating: rps_data_sample/paper/50.jpg  \n",
            "  inflating: rps_data_sample/paper/179.jpg  \n",
            "  inflating: rps_data_sample/paper/227.jpg  \n",
            "  inflating: rps_data_sample/paper/757.jpg  \n",
            "  inflating: rps_data_sample/paper/971.jpg  \n",
            "  inflating: rps_data_sample/paper/811.jpg  \n",
            "  inflating: rps_data_sample/paper/51.jpg  \n",
            "  inflating: rps_data_sample/paper/53.jpg  \n",
            "  inflating: rps_data_sample/paper/146.jpg  \n",
            "  inflating: rps_data_sample/paper/620.jpg  \n",
            "  inflating: rps_data_sample/paper/393.jpg  \n",
            "  inflating: rps_data_sample/paper/973.jpg  \n",
            "  inflating: rps_data_sample/paper/594.jpg  \n",
            "  inflating: rps_data_sample/paper/423.jpg  \n",
            "  inflating: rps_data_sample/paper/91.jpg  \n",
            "  inflating: rps_data_sample/paper/806.jpg  \n",
            "  inflating: rps_data_sample/rock/88.jpg  \n",
            "  inflating: rps_data_sample/rock/348.jpg  \n",
            "  inflating: rps_data_sample/rock/360.jpg  \n",
            "  inflating: rps_data_sample/rock/764.jpg  \n",
            "  inflating: rps_data_sample/rock/771.jpg  \n",
            "  inflating: rps_data_sample/rock/942.jpg  \n",
            "  inflating: rps_data_sample/rock/956.jpg  \n",
            "  inflating: rps_data_sample/rock/567.jpg  \n",
            "  inflating: rps_data_sample/rock/407.jpg  \n",
            "  inflating: rps_data_sample/rock/834.jpg  \n",
            "  inflating: rps_data_sample/rock/363.jpg  \n",
            "  inflating: rps_data_sample/rock/565.jpg  \n",
            "  inflating: rps_data_sample/rock/772.jpg  \n",
            "  inflating: rps_data_sample/rock/216.jpg  \n",
            "  inflating: rps_data_sample/rock/376.jpg  \n",
            "  inflating: rps_data_sample/rock/399.jpg  \n",
            "  inflating: rps_data_sample/rock/372.jpg  \n",
            "  inflating: rps_data_sample/rock/428.jpg  \n",
            "  inflating: rps_data_sample/rock/560.jpg  \n",
            "  inflating: rps_data_sample/rock/206.jpg  \n",
            "  inflating: rps_data_sample/rock/548.jpg  \n",
            "  inflating: rps_data_sample/rock/945.jpg  \n",
            "  inflating: rps_data_sample/rock/776.jpg  \n",
            "  inflating: rps_data_sample/rock/549.jpg  \n",
            "  inflating: rps_data_sample/rock/398.jpg  \n",
            "  inflating: rps_data_sample/rock/165.jpg  \n",
            "  inflating: rps_data_sample/rock/617.jpg  \n",
            "  inflating: rps_data_sample/rock/818.jpg  \n",
            "  inflating: rps_data_sample/rock/211.jpg  \n",
            "  inflating: rps_data_sample/rock/239.jpg  \n",
            "  inflating: rps_data_sample/rock/760.jpg  \n",
            "  inflating: rps_data_sample/rock/238.jpg  \n",
            "  inflating: rps_data_sample/rock/416.jpg  \n",
            "  inflating: rps_data_sample/rock/614.jpg  \n",
            "  inflating: rps_data_sample/rock/854.jpg  \n",
            "  inflating: rps_data_sample/rock/28.jpg  \n",
            "  inflating: rps_data_sample/rock/868.jpg  \n",
            "  inflating: rps_data_sample/rock/302.jpg  \n",
            "  inflating: rps_data_sample/rock/672.jpg  \n",
            "  inflating: rps_data_sample/rock/896.jpg  \n",
            "  inflating: rps_data_sample/rock/894.jpg  \n",
            "  inflating: rps_data_sample/rock/328.jpg  \n",
            "  inflating: rps_data_sample/rock/300.jpg  \n",
            "  inflating: rps_data_sample/rock/922.jpg  \n",
            "  inflating: rps_data_sample/rock/513.jpg  \n",
            "  inflating: rps_data_sample/rock/507.jpg  \n",
            "  inflating: rps_data_sample/rock/329.jpg  \n",
            "  inflating: rps_data_sample/rock/675.jpg  \n",
            "  inflating: rps_data_sample/rock/891.jpg  \n",
            "  inflating: rps_data_sample/rock/305.jpg  \n",
            "  inflating: rps_data_sample/rock/728.jpg  \n",
            "  inflating: rps_data_sample/rock/648.jpg  \n",
            "  inflating: rps_data_sample/rock/851.jpg  \n",
            "  inflating: rps_data_sample/rock/931.jpg  \n",
            "  inflating: rps_data_sample/rock/529.jpg  \n",
            "  inflating: rps_data_sample/rock/449.jpg  \n",
            "  inflating: rps_data_sample/rock/850.jpg  \n",
            "  inflating: rps_data_sample/rock/861.jpg  \n",
            "  inflating: rps_data_sample/rock/875.jpg  \n",
            "  inflating: rps_data_sample/rock/524.jpg  \n",
            "  inflating: rps_data_sample/rock/915.jpg  \n",
            "  inflating: rps_data_sample/rock/901.jpg  \n",
            "  inflating: rps_data_sample/rock/929.jpg  \n",
            "  inflating: rps_data_sample/rock/733.jpg  \n",
            "  inflating: rps_data_sample/rock/309.jpg  \n",
            "  inflating: rps_data_sample/rock/254.jpg  \n",
            "  inflating: rps_data_sample/rock/320.jpg  \n",
            "  inflating: rps_data_sample/rock/687.jpg  \n",
            "  inflating: rps_data_sample/rock/318.jpg  \n",
            "  inflating: rps_data_sample/rock/244.jpg  \n",
            "  inflating: rps_data_sample/rock/536.jpg  \n",
            "  inflating: rps_data_sample/rock/709.jpg  \n",
            "  inflating: rps_data_sample/rock/906.jpg  \n",
            "  inflating: rps_data_sample/rock/537.jpg  \n",
            "  inflating: rps_data_sample/rock/523.jpg  \n",
            "  inflating: rps_data_sample/rock/286.jpg  \n",
            "  inflating: rps_data_sample/rock/133.jpg  \n",
            "  inflating: rps_data_sample/rock/872.jpg  \n",
            "  inflating: rps_data_sample/rock/32.jpg  \n",
            "  inflating: rps_data_sample/rock/30.jpg  \n",
            "  inflating: rps_data_sample/rock/441.jpg  \n",
            "  inflating: rps_data_sample/rock/290.jpg  \n",
            "  inflating: rps_data_sample/rock/938.jpg  \n",
            "  inflating: rps_data_sample/rock/904.jpg  \n",
            "  inflating: rps_data_sample/rock/722.jpg  \n",
            "  inflating: rps_data_sample/rock/905.jpg  \n",
            "  inflating: rps_data_sample/rock/285.jpg  \n",
            "  inflating: rps_data_sample/rock/56.jpg  \n",
            "  inflating: rps_data_sample/rock/625.jpg  \n",
            "  inflating: rps_data_sample/rock/427.jpg  \n",
            "  inflating: rps_data_sample/rock/750.jpg  \n",
            "  inflating: rps_data_sample/rock/778.jpg  \n",
            "  inflating: rps_data_sample/rock/546.jpg  \n",
            "  inflating: rps_data_sample/rock/234.jpg  \n",
            "  inflating: rps_data_sample/rock/426.jpg  \n",
            "  inflating: rps_data_sample/rock/168.jpg  \n",
            "  inflating: rps_data_sample/rock/82.jpg  \n",
            "  inflating: rps_data_sample/rock/356.jpg  \n",
            "  inflating: rps_data_sample/rock/593.jpg  \n",
            "  inflating: rps_data_sample/rock/784.jpg  \n",
            "  inflating: rps_data_sample/rock/223.jpg  \n",
            "  inflating: rps_data_sample/rock/545.jpg  \n",
            "  inflating: rps_data_sample/rock/592.jpg  \n",
            "  inflating: rps_data_sample/rock/431.jpg  \n",
            "  inflating: rps_data_sample/rock/182.jpg  \n",
            "  inflating: rps_data_sample/rock/54.jpg  \n",
            "  inflating: rps_data_sample/rock/186.jpg  \n",
            "  inflating: rps_data_sample/rock/435.jpg  \n",
            "  inflating: rps_data_sample/rock/409.jpg  \n",
            "  inflating: rps_data_sample/rock/541.jpg  \n",
            "  inflating: rps_data_sample/rock/45.jpg  \n",
            "  inflating: rps_data_sample/rock/193.jpg  \n",
            "  inflating: rps_data_sample/rock/47.jpg  \n",
            "  inflating: rps_data_sample/rock/1.jpg  \n",
            "  inflating: rps_data_sample/rock/152.jpg  \n",
            "  inflating: rps_data_sample/rock/595.jpg  \n",
            "  inflating: rps_data_sample/rock/218.jpg  \n",
            "  inflating: rps_data_sample/rock/967.jpg  \n",
            "  inflating: rps_data_sample/rock/769.jpg  \n",
            "  inflating: rps_data_sample/rock/796.jpg  \n",
            "  inflating: rps_data_sample/rock/351.jpg  \n",
            "  inflating: rps_data_sample/rock/392.jpg  \n",
            "  inflating: rps_data_sample/rock/635.jpg  \n",
            "  inflating: rps_data_sample/rock/147.jpg  \n",
            "  inflating: rps_data_sample/rock/621.jpg  \n",
            "  inflating: rps_data_sample/scissors/604.jpg  \n",
            "  inflating: rps_data_sample/scissors/162.jpg  \n",
            "  inflating: rps_data_sample/scissors/610.jpg  \n",
            "  inflating: rps_data_sample/scissors/764.jpg  \n",
            "  inflating: rps_data_sample/scissors/942.jpg  \n",
            "  inflating: rps_data_sample/scissors/188.jpg  \n",
            "  inflating: rps_data_sample/scissors/60.jpg  \n",
            "  inflating: rps_data_sample/scissors/149.jpg  \n",
            "  inflating: rps_data_sample/scissors/559.jpg  \n",
            "  inflating: rps_data_sample/scissors/798.jpg  \n",
            "  inflating: rps_data_sample/scissors/954.jpg  \n",
            "  inflating: rps_data_sample/scissors/968.jpg  \n",
            "  inflating: rps_data_sample/scissors/49.jpg  \n",
            "  inflating: rps_data_sample/scissors/819.jpg  \n",
            "  inflating: rps_data_sample/scissors/602.jpg  \n",
            "  inflating: rps_data_sample/scissors/400.jpg  \n",
            "  inflating: rps_data_sample/scissors/428.jpg  \n",
            "  inflating: rps_data_sample/scissors/788.jpg  \n",
            "  inflating: rps_data_sample/scissors/549.jpg  \n",
            "  inflating: rps_data_sample/scissors/617.jpg  \n",
            "  inflating: rps_data_sample/scissors/64.jpg  \n",
            "  inflating: rps_data_sample/scissors/70.jpg  \n",
            "  inflating: rps_data_sample/scissors/173.jpg  \n",
            "  inflating: rps_data_sample/scissors/239.jpg  \n",
            "  inflating: rps_data_sample/scissors/760.jpg  \n",
            "  inflating: rps_data_sample/scissors/589.jpg  \n",
            "  inflating: rps_data_sample/scissors/614.jpg  \n",
            "  inflating: rps_data_sample/scissors/14.jpg  \n",
            "  inflating: rps_data_sample/scissors/28.jpg  \n",
            "  inflating: rps_data_sample/scissors/129.jpg  \n",
            "  inflating: rps_data_sample/scissors/673.jpg  \n",
            "  inflating: rps_data_sample/scissors/707.jpg  \n",
            "  inflating: rps_data_sample/scissors/706.jpg  \n",
            "  inflating: rps_data_sample/scissors/276.jpg  \n",
            "  inflating: rps_data_sample/scissors/289.jpg  \n",
            "  inflating: rps_data_sample/scissors/100.jpg  \n",
            "  inflating: rps_data_sample/scissors/29.jpg  \n",
            "  inflating: rps_data_sample/scissors/116.jpg  \n",
            "  inflating: rps_data_sample/scissors/670.jpg  \n",
            "  inflating: rps_data_sample/scissors/705.jpg  \n",
            "  inflating: rps_data_sample/scissors/261.jpg  \n",
            "  inflating: rps_data_sample/scissors/301.jpg  \n",
            "  inflating: rps_data_sample/scissors/117.jpg  \n",
            "  inflating: rps_data_sample/scissors/856.jpg  \n",
            "  inflating: rps_data_sample/scissors/16.jpg  \n",
            "  inflating: rps_data_sample/scissors/463.jpg  \n",
            "  inflating: rps_data_sample/scissors/715.jpg  \n",
            "  inflating: rps_data_sample/scissors/927.jpg  \n",
            "  inflating: rps_data_sample/scissors/264.jpg  \n",
            "  inflating: rps_data_sample/scissors/338.jpg  \n",
            "  inflating: rps_data_sample/scissors/476.jpg  \n",
            "  inflating: rps_data_sample/scissors/853.jpg  \n",
            "  inflating: rps_data_sample/scissors/104.jpg  \n",
            "  inflating: rps_data_sample/scissors/306.jpg  \n",
            "  inflating: rps_data_sample/scissors/448.jpg  \n",
            "  inflating: rps_data_sample/scissors/925.jpg  \n",
            "  inflating: rps_data_sample/scissors/930.jpg  \n",
            "  inflating: rps_data_sample/scissors/878.jpg  \n",
            "  inflating: rps_data_sample/scissors/691.jpg  \n",
            "  inflating: rps_data_sample/scissors/732.jpg  \n",
            "  inflating: rps_data_sample/scissors/531.jpg  \n",
            "  inflating: rps_data_sample/scissors/323.jpg  \n",
            "  inflating: rps_data_sample/scissors/684.jpg  \n",
            "  inflating: rps_data_sample/scissors/321.jpg  \n",
            "  inflating: rps_data_sample/scissors/269.jpg  \n",
            "  inflating: rps_data_sample/scissors/527.jpg  \n",
            "  inflating: rps_data_sample/scissors/730.jpg  \n",
            "  inflating: rps_data_sample/scissors/122.jpg  \n",
            "  inflating: rps_data_sample/scissors/23.jpg  \n",
            "  inflating: rps_data_sample/scissors/126.jpg  \n",
            "  inflating: rps_data_sample/scissors/293.jpg  \n",
            "  inflating: rps_data_sample/scissors/522.jpg  \n",
            "  inflating: rps_data_sample/scissors/278.jpg  \n",
            "  inflating: rps_data_sample/scissors/720.jpg  \n",
            "  inflating: rps_data_sample/scissors/251.jpg  \n",
            "  inflating: rps_data_sample/scissors/641.jpg  \n",
            "  inflating: rps_data_sample/scissors/866.jpg  \n",
            "  inflating: rps_data_sample/scissors/657.jpg  \n",
            "  inflating: rps_data_sample/scissors/119.jpg  \n",
            "  inflating: rps_data_sample/scissors/482.jpg  \n",
            "  inflating: rps_data_sample/scissors/520.jpg  \n",
            "  inflating: rps_data_sample/scissors/534.jpg  \n",
            "  inflating: rps_data_sample/scissors/285.jpg  \n",
            "  inflating: rps_data_sample/scissors/656.jpg  \n",
            "  inflating: rps_data_sample/scissors/871.jpg  \n",
            "  inflating: rps_data_sample/scissors/56.jpg  \n",
            "  inflating: rps_data_sample/scissors/631.jpg  \n",
            "  inflating: rps_data_sample/scissors/382.jpg  \n",
            "  inflating: rps_data_sample/scissors/792.jpg  \n",
            "  inflating: rps_data_sample/scissors/208.jpg  \n",
            "  inflating: rps_data_sample/scissors/397.jpg  \n",
            "  inflating: rps_data_sample/scissors/156.jpg  \n",
            "  inflating: rps_data_sample/scissors/630.jpg  \n",
            "  inflating: rps_data_sample/scissors/5.jpg  \n",
            "  inflating: rps_data_sample/scissors/57.jpg  \n",
            "  inflating: rps_data_sample/scissors/803.jpg  \n",
            "  inflating: rps_data_sample/scissors/7.jpg  \n",
            "  inflating: rps_data_sample/scissors/96.jpg  \n",
            "  inflating: rps_data_sample/scissors/222.jpg  \n",
            "  inflating: rps_data_sample/scissors/550.jpg  \n",
            "  inflating: rps_data_sample/scissors/785.jpg  \n",
            "  inflating: rps_data_sample/scissors/791.jpg  \n",
            "  inflating: rps_data_sample/scissors/753.jpg  \n",
            "  inflating: rps_data_sample/scissors/223.jpg  \n",
            "  inflating: rps_data_sample/scissors/394.jpg  \n",
            "  inflating: rps_data_sample/scissors/169.jpg  \n",
            "  inflating: rps_data_sample/scissors/196.jpg  \n",
            "  inflating: rps_data_sample/scissors/800.jpg  \n",
            "  inflating: rps_data_sample/scissors/192.jpg  \n",
            "  inflating: rps_data_sample/scissors/50.jpg  \n",
            "  inflating: rps_data_sample/scissors/804.jpg  \n",
            "  inflating: rps_data_sample/scissors/596.jpg  \n",
            "  inflating: rps_data_sample/scissors/568.jpg  \n",
            "  inflating: rps_data_sample/scissors/232.jpg  \n",
            "  inflating: rps_data_sample/scissors/45.jpg  \n",
            "  inflating: rps_data_sample/scissors/90.jpg  \n",
            "  inflating: rps_data_sample/scissors/387.jpg  \n",
            "  inflating: rps_data_sample/scissors/436.jpg  \n",
            "  inflating: rps_data_sample/scissors/378.jpg  \n",
            "  inflating: rps_data_sample/scissors/595.jpg  \n",
            "  inflating: rps_data_sample/scissors/230.jpg  \n",
            "  inflating: rps_data_sample/scissors/782.jpg  \n",
            "  inflating: rps_data_sample/scissors/580.jpg  \n",
            "  inflating: rps_data_sample/scissors/147.jpg  \n",
            "  inflating: rps_data_sample/scissors/184.jpg  \n",
            "  inflating: rps_data_sample/none/823.jpg  \n",
            "  inflating: rps_data_sample/none/1031.jpg  \n",
            "  inflating: rps_data_sample/none/957.jpg  \n",
            "  inflating: rps_data_sample/none/229.jpg  \n",
            "  inflating: rps_data_sample/none/598.jpg  \n",
            "  inflating: rps_data_sample/none/349.jpg  \n",
            "  inflating: rps_data_sample/none/1811.jpg  \n",
            "  inflating: rps_data_sample/none/76.jpg  \n",
            "  inflating: rps_data_sample/none/60.jpg  \n",
            "  inflating: rps_data_sample/none/820.jpg  \n",
            "  inflating: rps_data_sample/none/613.jpg  \n",
            "  inflating: rps_data_sample/none/363.jpg  \n",
            "  inflating: rps_data_sample/none/203.jpg  \n",
            "  inflating: rps_data_sample/none/1224.jpg  \n",
            "  inflating: rps_data_sample/none/955.jpg  \n",
            "  inflating: rps_data_sample/none/941.jpg  \n",
            "  inflating: rps_data_sample/none/1033.jpg  \n",
            "  inflating: rps_data_sample/none/1812.jpg  \n",
            "  inflating: rps_data_sample/none/1609.jpg  \n",
            "  inflating: rps_data_sample/none/71.jpg  \n",
            "  inflating: rps_data_sample/none/65.jpg  \n",
            "  inflating: rps_data_sample/none/1802.jpg  \n",
            "  inflating: rps_data_sample/none/1590.jpg  \n",
            "  inflating: rps_data_sample/none/993.jpg  \n",
            "  inflating: rps_data_sample/none/950.jpg  \n",
            "  inflating: rps_data_sample/none/1552.jpg  \n",
            "  inflating: rps_data_sample/none/213.jpg  \n",
            "  inflating: rps_data_sample/none/165.jpg  \n",
            "  inflating: rps_data_sample/none/1340.jpg  \n",
            "  inflating: rps_data_sample/none/1424.jpg  \n",
            "  inflating: rps_data_sample/none/1381.jpg  \n",
            "  inflating: rps_data_sample/none/239.jpg  \n",
            "  inflating: rps_data_sample/none/946.jpg  \n",
            "  inflating: rps_data_sample/none/1784.jpg  \n",
            "  inflating: rps_data_sample/none/1747.jpg  \n",
            "  inflating: rps_data_sample/none/1814.jpg  \n",
            "  inflating: rps_data_sample/none/1627.jpg  \n",
            "  inflating: rps_data_sample/none/1633.jpg  \n",
            "  inflating: rps_data_sample/none/9.jpg  \n",
            "  inflating: rps_data_sample/none/511.jpg  \n",
            "  inflating: rps_data_sample/none/1244.jpg  \n",
            "  inflating: rps_data_sample/none/1906.jpg  \n",
            "  inflating: rps_data_sample/none/1469.jpg  \n",
            "  inflating: rps_data_sample/none/1119.jpg  \n",
            "  inflating: rps_data_sample/none/1643.jpg  \n",
            "  inflating: rps_data_sample/none/1657.jpg  \n",
            "  inflating: rps_data_sample/none/1521.jpg  \n",
            "  inflating: rps_data_sample/none/704.jpg  \n",
            "  inflating: rps_data_sample/none/1534.jpg  \n",
            "  inflating: rps_data_sample/none/275.jpg  \n",
            "  inflating: rps_data_sample/none/249.jpg  \n",
            "  inflating: rps_data_sample/none/1134.jpg  \n",
            "  inflating: rps_data_sample/none/1083.jpg  \n",
            "  inflating: rps_data_sample/none/729.jpg  \n",
            "  inflating: rps_data_sample/none/270.jpg  \n",
            "  inflating: rps_data_sample/none/1041.jpg  \n",
            "  inflating: rps_data_sample/none/39.jpg  \n",
            "  inflating: rps_data_sample/none/1876.jpg  \n",
            "  inflating: rps_data_sample/none/1255.jpg  \n",
            "  inflating: rps_data_sample/none/1650.jpg  \n",
            "  inflating: rps_data_sample/none/1308.jpg  \n",
            "  inflating: rps_data_sample/none/1446.jpg  \n",
            "  inflating: rps_data_sample/none/1488.jpg  \n",
            "  inflating: rps_data_sample/none/1885.jpg  \n",
            "  inflating: rps_data_sample/none/1107.jpg  \n",
            "  inflating: rps_data_sample/none/1729.jpg  \n",
            "  inflating: rps_data_sample/none/1067.jpg  \n",
            "  inflating: rps_data_sample/none/1072.jpg  \n",
            "  inflating: rps_data_sample/none/1890.jpg  \n",
            "  inflating: rps_data_sample/none/1851.jpg  \n",
            "  inflating: rps_data_sample/none/255.jpg  \n",
            "  inflating: rps_data_sample/none/1299.jpg  \n",
            "  inflating: rps_data_sample/none/1501.jpg  \n",
            "  inflating: rps_data_sample/none/334.jpg  \n",
            "  inflating: rps_data_sample/none/1878.jpg  \n",
            "  inflating: rps_data_sample/none/1663.jpg  \n",
            "  inflating: rps_data_sample/none/122.jpg  \n",
            "  inflating: rps_data_sample/none/136.jpg  \n",
            "  inflating: rps_data_sample/none/33.jpg  \n",
            "  inflating: rps_data_sample/none/898.jpg  \n",
            "  inflating: rps_data_sample/none/1101.jpg  \n",
            "  inflating: rps_data_sample/none/1883.jpg  \n",
            "  inflating: rps_data_sample/none/735.jpg  \n",
            "  inflating: rps_data_sample/none/1048.jpg  \n",
            "  inflating: rps_data_sample/none/292.jpg  \n",
            "  inflating: rps_data_sample/none/1712.jpg  \n",
            "  inflating: rps_data_sample/none/1128.jpg  \n",
            "  inflating: rps_data_sample/none/32.jpg  \n",
            "  inflating: rps_data_sample/none/657.jpg  \n",
            "  inflating: rps_data_sample/none/327.jpg  \n",
            "  inflating: rps_data_sample/none/1843.jpg  \n",
            "  inflating: rps_data_sample/none/1089.jpg  \n",
            "  inflating: rps_data_sample/none/939.jpg  \n",
            "  inflating: rps_data_sample/none/520.jpg  \n",
            "  inflating: rps_data_sample/none/252.jpg  \n",
            "  inflating: rps_data_sample/none/802.jpg  \n",
            "  inflating: rps_data_sample/none/433.jpg  \n",
            "  inflating: rps_data_sample/none/590.jpg  \n",
            "  inflating: rps_data_sample/none/1206.jpg  \n",
            "  inflating: rps_data_sample/none/779.jpg  \n",
            "  inflating: rps_data_sample/none/744.jpg  \n",
            "  inflating: rps_data_sample/none/1005.jpg  \n",
            "  inflating: rps_data_sample/none/142.jpg  \n",
            "  inflating: rps_data_sample/none/57.jpg  \n",
            "  inflating: rps_data_sample/none/1198.jpg  \n",
            "  inflating: rps_data_sample/none/424.jpg  \n",
            "  inflating: rps_data_sample/none/236.jpg  \n",
            "  inflating: rps_data_sample/none/791.jpg  \n",
            "  inflating: rps_data_sample/none/394.jpg  \n",
            "  inflating: rps_data_sample/none/1416.jpg  \n",
            "  inflating: rps_data_sample/none/800.jpg  \n",
            "  inflating: rps_data_sample/none/1412.jpg  \n",
            "  inflating: rps_data_sample/none/44.jpg  \n",
            "  inflating: rps_data_sample/none/1823.jpg  \n",
            "  inflating: rps_data_sample/none/1189.jpg  \n",
            "  inflating: rps_data_sample/none/1214.jpg  \n",
            "  inflating: rps_data_sample/none/794.jpg  \n",
            "  inflating: rps_data_sample/none/756.jpg  \n",
            "  inflating: rps_data_sample/none/193.jpg  \n",
            "  inflating: rps_data_sample/none/1799.jpg  \n",
            "  inflating: rps_data_sample/none/1000.jpg  \n",
            "  inflating: rps_data_sample/none/386.jpg  \n",
            "  inflating: rps_data_sample/none/1362.jpg  \n",
            "  inflating: rps_data_sample/none/190.jpg  \n",
            "  inflating: rps_data_sample/none/1376.jpg  \n"
          ]
        }
      ],
      "source": [
        "!wget https://storage.googleapis.com/mediapipe-tasks/gesture_recognizer/rps_data_sample.zip\n",
        "!unzip rps_data_sample.zip\n",
        "dataset_path = \"rps_data_sample\""
      ]
    },
    {
      "cell_type": "markdown",
      "metadata": {
        "id": "iiWb9Tu3lBBI"
      },
      "source": [
        "Verify the rock paper scissors dataset by printing the labels. There should be 4 gesture labels, with one of them being the `none` gesture."
      ]
    },
    {
      "cell_type": "code",
      "execution_count": null,
      "metadata": {
        "id": "QgadM4VDj3Y2"
      },
      "outputs": [],
      "source": [
        "print(dataset_path)\n",
        "labels = []\n",
        "for i in os.listdir(dataset_path):\n",
        "  if os.path.isdir(os.path.join(dataset_path, i)):\n",
        "    labels.append(i)\n",
        "print(labels)"
      ]
    },
    {
      "cell_type": "markdown",
      "metadata": {
        "id": "CA0o59OMjqmV"
      },
      "source": [
        "To better understand the dataset, plot a couple of example images for each gesture."
      ]
    },
    {
      "cell_type": "code",
      "execution_count": null,
      "metadata": {
        "id": "sx8PsrwYjvgO"
      },
      "outputs": [],
      "source": [
        "NUM_EXAMPLES = 5\n",
        "\n",
        "for label in labels:\n",
        "  label_dir = os.path.join(dataset_path, label)\n",
        "  example_filenames = os.listdir(label_dir)[:NUM_EXAMPLES]\n",
        "  fig, axs = plt.subplots(1, NUM_EXAMPLES, figsize=(10,2))\n",
        "  for i in range(NUM_EXAMPLES):\n",
        "    axs[i].imshow(plt.imread(os.path.join(label_dir, example_filenames[i])))\n",
        "    axs[i].get_xaxis().set_visible(False)\n",
        "    axs[i].get_yaxis().set_visible(False)\n",
        "  fig.suptitle(f'Showing {NUM_EXAMPLES} examples for {label}')\n",
        "\n",
        "plt.show()"
      ]
    },
    {
      "cell_type": "markdown",
      "metadata": {
        "id": "sWXwEXSXlg7d"
      },
      "source": [
        "### Run the example\n",
        "The workflow consists of 4 steps which have been separated into their own code blocks."
      ]
    },
    {
      "cell_type": "markdown",
      "metadata": {
        "id": "OF9ArLQXIu25"
      },
      "source": [
        "**Load the dataset**\n",
        "\n",
        "Load the dataset located at `dataset_path` by using the `Dataset.from_folder` method. When loading the dataset, run the pre-packaged hand detection model from MediaPipe Hands to detect the hand landmarks from the images. Any images without detected hands are ommitted from the dataset. The resulting dataset will contain the extracted hand landmark positions from each image, rather than images themselves.\n",
        "\n",
        "The `HandDataPreprocessingParams` class contains two configurable options for the data loading process:\n",
        "* `shuffle`: A boolean controlling whether to shuffle the dataset. Defaults to true.\n",
        "* `min_detection_confidence`: A float between 0 and 1 controlling the confidence threshold for hand detection.\n",
        "\n",
        "Split the dataset: 80% for training, 10% for validation, and 10% for testing."
      ]
    },
    {
      "cell_type": "code",
      "execution_count": null,
      "metadata": {
        "id": "aTTNZsolKXiT"
      },
      "outputs": [],
      "source": [
        "data = gesture_recognizer.Dataset.from_folder(\n",
        "    dirname=dataset_path,\n",
        "    hparams=gesture_recognizer.HandDataPreprocessingParams()\n",
        ")\n",
        "train_data, rest_data = data.split(0.8)\n",
        "validation_data, test_data = rest_data.split(0.5)"
      ]
    },
    {
      "cell_type": "markdown",
      "metadata": {
        "id": "ndTh_ZyEIeKV"
      },
      "source": [
        "**Train the model**"
      ]
    },
    {
      "cell_type": "markdown",
      "metadata": {
        "id": "yAXWc3bv8hpe"
      },
      "source": [
        "Train the custom gesture recognizer by using the create method and passing in the training data, validation data, model options, and hyperparameters. For more information on model options and hyperparameters, see the [Hyperparameters](#hyperparameters) section below."
      ]
    },
    {
      "cell_type": "code",
      "execution_count": null,
      "metadata": {
        "id": "yk0UiRB6NZrb"
      },
      "outputs": [],
      "source": [
        "hparams = gesture_recognizer.HParams(export_dir=\"exported_model\")\n",
        "options = gesture_recognizer.GestureRecognizerOptions(hparams=hparams)\n",
        "model = gesture_recognizer.GestureRecognizer.create(\n",
        "    train_data=train_data,\n",
        "    validation_data=validation_data,\n",
        "    options=options\n",
        ")"
      ]
    },
    {
      "cell_type": "markdown",
      "metadata": {
        "id": "nED7mdIO9YS6"
      },
      "source": [
        "**Evaluate the model performance**\n",
        "\n",
        "After training the model, evaluate it on a test dataset and print the loss and accuracy metrics."
      ]
    },
    {
      "cell_type": "code",
      "execution_count": null,
      "metadata": {
        "id": "OdOqllqx9YKy"
      },
      "outputs": [],
      "source": [
        "loss, acc = model.evaluate(test_data, batch_size=1)\n",
        "print(f\"Test loss:{loss}, Test accuracy:{acc}\")"
      ]
    },
    {
      "cell_type": "markdown",
      "metadata": {
        "id": "vJLramjy9gvy"
      },
      "source": [
        "**Export to Tensorflow Lite Model**\n",
        "\n",
        "After creating the model, convert and export it to a Tensorflow Lite model format for later use on an on-device application. The export also includes model metadata, which includes the label file."
      ]
    },
    {
      "cell_type": "code",
      "execution_count": null,
      "metadata": {
        "id": "fmNaFXytijVg"
      },
      "outputs": [],
      "source": [
        "model.export_model()\n",
        "!ls exported_model"
      ]
    },
    {
      "cell_type": "code",
      "execution_count": null,
      "metadata": {
        "id": "7yfN_47qjjOC"
      },
      "outputs": [],
      "source": [
        "files.download('exported_model/gesture_recognizer.task')"
      ]
    },
    {
      "cell_type": "markdown",
      "metadata": {
        "id": "ulqyNGmTCKeU"
      },
      "source": [
        "## Run the model on-device\n",
        "\n",
        "To use the TFLite model for on-device usage through MediaPipe Tasks, refer to the Gesture Recognizer [overview page](https://developers.google.com/mediapipe/solutions/vision/gesture_recognizer)."
      ]
    },
    {
      "cell_type": "markdown",
      "metadata": {
        "id": "F1tiLGGRcvhy"
      },
      "source": [
        "## Hyperparameters {:#hyperparameters}\n"
      ]
    },
    {
      "cell_type": "markdown",
      "metadata": {
        "id": "f1UMEG85hQL_"
      },
      "source": [
        "You can further customize the model using the `GestureRecognizerOptions` class, which has two optional parameters for `ModelOptions` and `HParams`. Use the `ModelOptions` class to customize parameters related to the model itself, and the `HParams` class to customize other parameters related to training and saving the model.\n",
        "\n",
        "`ModelOptions` has one customizable parameter that affects accuracy:\n",
        "* `dropout_rate`: The fraction of the input units to drop. Used in dropout layer. Defaults to 0.05.\n",
        "* `layer_widths`: A list of hidden layer widths for the gesture model. Each element in the list will create a new hidden layer with the specified width. The hidden layers are separated with BatchNorm, Dropout, and ReLU. Defaults to an empty list(no hidden layers).\n",
        "\n",
        "`HParams` has the following list of customizable parameters which affect model accuracy:\n",
        "* `learning_rate`: The learning rate to use for gradient descent training. Defaults to 0.001.\n",
        "* `batch_size`: Batch size for training. Defaults to 2.\n",
        "* `epochs`: Number of training iterations over the dataset. Defaults to 10.\n",
        "* `steps_per_epoch`: An optional integer that indicates the number of training steps per epoch. If not set, the training pipeline calculates the default steps per epoch as the training dataset size divided by batch size.\n",
        "* `shuffle`: True if the dataset is shuffled before training. Defaults to False.\n",
        "* `lr_decay`: Learning rate decay to use for gradient descent training. Defaults to 0.99.\n",
        "* `gamma`: Gamma parameter for focal loss. Defaults to 2\n",
        "\n",
        "Additional `HParams` parameter that does not affect model accuracy:\n",
        "* `export_dir`: The location of the model checkpoint files and exported model files."
      ]
    },
    {
      "cell_type": "markdown",
      "metadata": {
        "id": "psvVZeSYBLfV"
      },
      "source": [
        "For example, the following trains a new model with the dropout_rate of 0.2 and learning rate of 0.003."
      ]
    },
    {
      "cell_type": "code",
      "execution_count": null,
      "metadata": {
        "id": "CxMOI8o6iNLu"
      },
      "outputs": [],
      "source": [
        "hparams = gesture_recognizer.HParams(learning_rate=0.003, export_dir=\"exported_model_2\")\n",
        "model_options = gesture_recognizer.ModelOptions(dropout_rate=0.2)\n",
        "options = gesture_recognizer.GestureRecognizerOptions(model_options=model_options, hparams=hparams)\n",
        "model_2 = gesture_recognizer.GestureRecognizer.create(\n",
        "    train_data=train_data,\n",
        "    validation_data=validation_data,\n",
        "    options=options\n",
        ")"
      ]
    },
    {
      "cell_type": "markdown",
      "metadata": {
        "id": "3cekuTJiBbv9"
      },
      "source": [
        "Evaluate the newly trained model."
      ]
    },
    {
      "cell_type": "code",
      "execution_count": null,
      "metadata": {
        "id": "RRH96bm-BbAo"
      },
      "outputs": [],
      "source": [
        "loss, accuracy = model_2.evaluate(test_data)\n",
        "print(f\"Test loss:{loss}, Test accuracy:{accuracy}\")"
      ]
    }
  ],
  "metadata": {
    "colab": {
      "private_outputs": true,
      "provenance": []
    },
    "kernelspec": {
      "display_name": "redesign",
      "language": "python",
      "name": "redesign"
    },
    "language_info": {
      "codemirror_mode": {
        "name": "ipython",
        "version": 3
      },
      "file_extension": ".py",
      "mimetype": "text/x-python",
      "name": "python",
      "nbconvert_exporter": "python",
      "pygments_lexer": "ipython3",
      "version": "3.11.7"
    }
  },
  "nbformat": 4,
  "nbformat_minor": 0
}

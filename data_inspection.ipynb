{
 "cells": [
  {
   "cell_type": "code",
   "execution_count": 14,
   "metadata": {},
   "outputs": [
    {
     "name": "stderr",
     "output_type": "stream",
     "text": [
      "I0000 00:00:1712806258.735140       1 gl_context.cc:344] GL version: 2.1 (2.1 Metal - 88), renderer: Apple M1 Pro\n"
     ]
    },
    {
     "name": "stdout",
     "output_type": "stream",
     "text": [
      "category:  SEAT\n",
      "valid:  9\n",
      "invalid:  8\n",
      "\n"
     ]
    }
   ],
   "source": [
    "import cv2\n",
    "import mediapipe as mp\n",
    "import os\n",
    "import uuid\n",
    "\n",
    "mp_drawing = mp.solutions.drawing_utils\n",
    "mp_drawing_styles = mp.solutions.drawing_styles\n",
    "mp_hands = mp.solutions.hands\n",
    "\n",
    "raw_directory = \"Data/RAW\"\n",
    "\n",
    "class_list = [\n",
    "  'SEAT'\n",
    "]\n",
    "\n",
    "num_hands = {\n",
    "  'CANNOT': 2,\n",
    "  'HOW': 2,\n",
    "  'ii': 1,\n",
    "  'I': 1,\n",
    "  'PLEASE': 1,\n",
    "  'SCHOOL': 2,\n",
    "  'THANK YOU': 1,\n",
    "  \"whatsup\": 1,\n",
    "  \"CONNECT\": 2,\n",
    "  \"DETAIL\": 2,\n",
    "  \"HELP\": 2,\n",
    "  \"INTERNET\": 2,\n",
    "  \"SEAT\": 1,\n",
    "  \"TIRED\": 2,\n",
    "  \"WHERE\": 1,\n",
    "  \"WRITE\": 2,\n",
    "\n",
    "}\n",
    "\n",
    "with mp_hands.Hands(\n",
    "    static_image_mode=True,\n",
    "    max_num_hands=2,\n",
    "    min_detection_confidence=0.1) as hands:\n",
    "  for category in os.listdir(raw_directory):\n",
    "\n",
    "    if class_list and category not in class_list:\n",
    "      continue\n",
    "\n",
    "    if category.startswith(\".\"):\n",
    "     continue\n",
    "\n",
    "    valid = 0\n",
    "    invalid = 0\n",
    "\n",
    "    for file in os.listdir(os.path.join(raw_directory, category)):\n",
    "\n",
    "      if not file.endswith(\".jpg\"):\n",
    "        continue\n",
    "\n",
    "      # Read an image, flip it around y-axis for correct handedness output (see\n",
    "      # above).\n",
    "      image = cv2.flip(cv2.imread(os.path.join(raw_directory, category, file)), 1)\n",
    "      # Convert the BGR image to RGB before processing.\n",
    "      results = hands.process(cv2.cvtColor(image, cv2.COLOR_BGR2RGB))\n",
    "      if not results.multi_hand_landmarks:\n",
    "        invalid += 1\n",
    "        continue\n",
    "\n",
    "      if len(results.multi_hand_landmarks) == num_hands[category]:\n",
    "        valid += 1\n",
    "        os.rename(os.path.join(raw_directory, category, file), os.path.join(raw_directory, category, 'valid-' + str(uuid.uuid4()) + '.jpg'))\n",
    "\n",
    "      # image_height, image_width, _ = image.shape\n",
    "      # annotated_image = image.copy()\n",
    "\n",
    "      # for hand_landmarks in results.multi_hand_landmarks:\n",
    "      #   mp_drawing.draw_landmarks(\n",
    "      #       annotated_image,\n",
    "      #       hand_landmarks,\n",
    "      #       mp_hands.HAND_CONNECTIONS,\n",
    "      #       mp_drawing_styles.get_default_hand_landmarks_style(),\n",
    "      #       mp_drawing_styles.get_default_hand_connections_style())\n",
    "        \n",
    "      # cv2.imshow('Annotated Image', cv2.flip(annotated_image, 1))\n",
    "\n",
    "      # Draw hand world landmarks.\n",
    "      # if not results.multi_hand_world_landmarks:\n",
    "      #   continue\n",
    "      # for hand_world_landmarks in results.multi_hand_world_landmarks:\n",
    "      #   mp_drawing.plot_landmarks(\n",
    "      #     hand_world_landmarks, mp_hands.HAND_CONNECTIONS, azimuth=5)\n",
    "      \n",
    "    print('category: ', category)\n",
    "    print('valid: ', valid)\n",
    "    print('invalid: ', invalid)\n",
    "    print()"
   ]
  },
  {
   "cell_type": "code",
   "execution_count": 11,
   "metadata": {},
   "outputs": [],
   "source": [
    "for category in os.listdir(raw_directory):\n",
    "\n",
    "    if category.startswith(\".\"):\n",
    "        continue\n",
    "    \n",
    "    for file in os.listdir(os.path.join(raw_directory, category)):\n",
    "\n",
    "        if not file.startswith(\".\"):\n",
    "            os.rename(os.path.join(raw_directory, category, file), os.path.join(raw_directory, category, str(uuid.uuid4()) + '.jpg'))"
   ]
  },
  {
   "cell_type": "code",
   "execution_count": null,
   "metadata": {},
   "outputs": [],
   "source": []
  }
 ],
 "metadata": {
  "kernelspec": {
   "display_name": "redesign",
   "language": "python",
   "name": "redesign"
  },
  "language_info": {
   "codemirror_mode": {
    "name": "ipython",
    "version": 3
   },
   "file_extension": ".py",
   "mimetype": "text/x-python",
   "name": "python",
   "nbconvert_exporter": "python",
   "pygments_lexer": "ipython3",
   "version": "3.11.7"
  }
 },
 "nbformat": 4,
 "nbformat_minor": 2
}
